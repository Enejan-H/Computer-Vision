{
 "cells": [
  {
   "cell_type": "code",
   "execution_count": 45,
   "id": "cbc9929f",
   "metadata": {
    "ExecuteTime": {
     "end_time": "2024-08-12T21:47:49.608746Z",
     "start_time": "2024-08-12T21:47:47.897155Z"
    }
   },
   "outputs": [
    {
     "name": "stdout",
     "output_type": "stream",
     "text": [
      "Video FPS: 59.157303370786515\n"
     ]
    }
   ],
   "source": [
    "import cv2\n",
    "import numpy as np\n",
    "from ultralytics import YOLO\n",
    "\n",
    "# Load the YOLO model\n",
    "model = YOLO('yolov8n.pt')  # Adjust if using a different YOLOv8 model\n",
    "\n",
    "# Define the region of interest (ROI) for tracking\n",
    "region1 = np.array([\n",
    "    (400, 200),  # Sol üst nokta sabit\n",
    "    (1700, 200),  # Sağ üst nokta sabit\n",
    "    (3400, 1800),  # Sağ alt nokta \n",
    "    (1400, 1800)   # Sol alt nokta\n",
    "])\n",
    "\n",
    "region1 = region1.reshape((-1, 1, 2))\n",
    "\n",
    "# Set paths for input and output files\n",
    "video_path = 'video.mov'  # Adjust the path\n",
    "output_file = 'output_video.mp4'  # Adjust the path\n",
    "\n",
    "# Initialize video capture\n",
    "kamera = cv2.VideoCapture(video_path)\n",
    "\n",
    "# Get video FPS\n",
    "fps = kamera.get(cv2.CAP_PROP_FPS)\n",
    "print(f\"Video FPS: {fps}\")\n",
    "\n",
    "# Initialize frame count and dictionary to track first entry frames\n",
    "count = 0\n",
    "first_entering = {}\n",
    "\n",
    "# Get video dimensions and set up video writer\n",
    "frame_width = int(kamera.get(cv2.CAP_PROP_FRAME_WIDTH))\n",
    "frame_height = int(kamera.get(cv2.CAP_PROP_FRAME_HEIGHT))\n",
    "fourcc = cv2.VideoWriter_fourcc(*'mp4v')  # Codec for MP4 file\n",
    "out = cv2.VideoWriter(output_file, fourcc, fps, (frame_width, frame_height))\n",
    "\n",
    "while True:\n",
    "    ret, frame = kamera.read()\n",
    "    if not ret:\n",
    "        break\n",
    "    \n",
    "    count += 1\n",
    "    frame_rgb = cv2.cvtColor(frame, cv2.COLOR_BGR2RGB)\n",
    "    \n",
    "    # Perform detection with YOLO\n",
    "    results = model.track(frame_rgb, persist=True, verbose=False)\n",
    "    labels = results[0].names\n",
    "\n",
    "    for i in range(len(results[0].boxes)):\n",
    "        x1, y1, x2, y2 = results[0].boxes.xyxy[i]\n",
    "        score = results[0].boxes.conf[i]\n",
    "        label = results[0].boxes.cls[i]\n",
    "        ids = results[0].boxes.id[i]\n",
    "\n",
    "        x1, y1, x2, y2, score, label, ids = int(x1), int(y1), int(x2), int(y2), float(score), int(label), int(ids)\n",
    "        name = labels[label]\n",
    "\n",
    "        if score < 0.5 or name != 'person':\n",
    "            continue\n",
    "\n",
    "        cx = int((x1 + x2) / 2)\n",
    "        cy = int((y1 + y2) / 2)\n",
    "\n",
    "        inside_region1 = cv2.pointPolygonTest(region1, (cx, cy), False)\n",
    "        \n",
    "        if inside_region1 > 0:\n",
    "            if ids in first_entering:\n",
    "                frame_diff = count - first_entering[ids]\n",
    "                time_spent = frame_diff / fps\n",
    "                time_spent = int(time_spent)\n",
    "                text_time = f'Stayed: {time_spent} s'\n",
    "                cv2.putText(frame, text_time, (x1, y1 - 10), cv2.FONT_HERSHEY_SIMPLEX, 0.7, (255, 255, 255), 2)\n",
    "            else:\n",
    "                first_entering[ids] = count\n",
    "\n",
    "    # Draw the region with blue lines and thickness 7\n",
    "    cv2.polylines(frame, [region1], True, (255, 255, 0), 7)\n",
    "    \n",
    "    # Write the frame with annotations to the output video file\n",
    "    out.write(frame)\n",
    "    \n",
    "    # Display the frame\n",
    "    cv2.imshow(\"Video\", frame)\n",
    "    \n",
    "    if cv2.waitKey(1) & 0xFF == ord('q'):\n",
    "        break\n",
    "\n",
    "# Release video capture and writer, and close all OpenCV windows\n",
    "kamera.release()\n",
    "out.release()\n",
    "cv2.destroyAllWindows()\n"
   ]
  },
  {
   "cell_type": "code",
   "execution_count": 46,
   "id": "6953d0de",
   "metadata": {},
   "outputs": [
    {
     "name": "stdout",
     "output_type": "stream",
     "text": [
      "Video FPS: 59.157303370786515\n",
      "      ID  TimeSpent(s)\n",
      "0      1             0\n",
      "1      2             0\n",
      "2      3             0\n",
      "3      5             0\n",
      "4      7             0\n",
      "...   ..           ...\n",
      "2892   1            11\n",
      "2893   1            11\n",
      "2894   1            11\n",
      "2895   2            11\n",
      "2896  14             3\n",
      "\n",
      "[2897 rows x 2 columns]\n"
     ]
    }
   ],
   "source": [
    "import cv2\n",
    "import numpy as np\n",
    "from ultralytics import YOLO\n",
    "import pandas as pd\n",
    "\n",
    "# Load the YOLO model\n",
    "model = YOLO('yolov8n.pt')  # Adjust if using a different YOLOv8 model\n",
    "\n",
    "# Define the region of interest (ROI) for tracking\n",
    "region1 = np.array([\n",
    "    (400, 200),  # Sol üst nokta \n",
    "    (1700, 200),  # Sağ üst nokta \n",
    "    (3400, 1800),  # Sağ alt nokta \n",
    "    (1400, 1800)   # Sol alt nokta\n",
    "])\n",
    "region1 = region1.reshape((-1, 1, 2))\n",
    "\n",
    "# Set paths for input and output files\n",
    "video_path = 'video.mov'  # Adjust the path\n",
    "output_file = 'output_video2.mp4'  # Adjust the path\n",
    "\n",
    "# Initialize video capture\n",
    "kamera = cv2.VideoCapture(video_path)\n",
    "\n",
    "# Get video FPS\n",
    "fps = kamera.get(cv2.CAP_PROP_FPS)\n",
    "print(f\"Video FPS: {fps}\")\n",
    "\n",
    "# Initialize frame count and dictionary to track first entry frames\n",
    "count = 0\n",
    "first_entering = {}\n",
    "time_spent_list = []\n",
    "\n",
    "# Get video dimensions and set up video writer\n",
    "frame_width = int(kamera.get(cv2.CAP_PROP_FRAME_WIDTH))\n",
    "frame_height = int(kamera.get(cv2.CAP_PROP_FRAME_HEIGHT))\n",
    "fourcc = cv2.VideoWriter_fourcc(*'mp4v')  # Codec for MP4 file\n",
    "out = cv2.VideoWriter(output_file, fourcc, fps, (frame_width, frame_height))\n",
    "\n",
    "while True:\n",
    "    ret, frame = kamera.read()\n",
    "    if not ret:\n",
    "        break\n",
    "    \n",
    "    count += 1\n",
    "    frame_rgb = cv2.cvtColor(frame, cv2.COLOR_BGR2RGB)\n",
    "    \n",
    "    # Perform detection with YOLO\n",
    "    results = model.track(frame_rgb, persist=True, verbose=False)\n",
    "    labels = results[0].names\n",
    "\n",
    "    for i in range(len(results[0].boxes)):\n",
    "        x1, y1, x2, y2 = results[0].boxes.xyxy[i]\n",
    "        score = results[0].boxes.conf[i]\n",
    "        label = results[0].boxes.cls[i]\n",
    "        ids = results[0].boxes.id[i]\n",
    "\n",
    "        x1, y1, x2, y2, score, label, ids = int(x1), int(y1), int(x2), int(y2), float(score), int(label), int(ids)\n",
    "        name = labels[label]\n",
    "\n",
    "        if score < 0.5 or name != 'person':\n",
    "            continue\n",
    "\n",
    "        cx = int((x1 + x2) / 2)\n",
    "        cy = int((y1 + y2) / 2)\n",
    "\n",
    "        inside_region1 = cv2.pointPolygonTest(region1, (cx, cy), False)\n",
    "        \n",
    "        if inside_region1 > 0:\n",
    "            if ids in first_entering:\n",
    "                frame_diff = count - first_entering[ids]\n",
    "                time_spent = frame_diff / fps\n",
    "                time_spent = int(time_spent)\n",
    "                text_time = f'Stayed: {time_spent} s'\n",
    "                cv2.putText(frame, text_time, (x1, y1 - 10), cv2.FONT_HERSHEY_SIMPLEX, 0.7, (255, 255, 255), 2)\n",
    "\n",
    "                # Save time spent data for the person\n",
    "                time_spent_list.append({'ID': ids, 'TimeSpent(s)': time_spent})\n",
    "\n",
    "            else:\n",
    "                first_entering[ids] = count\n",
    "\n",
    "    # Draw the region with blue lines and thickness 7\n",
    "    cv2.polylines(frame, [region1], True, (255, 255, 0), 7)\n",
    "    \n",
    "    # Write the frame with annotations to the output video file\n",
    "    out.write(frame)\n",
    "    \n",
    "    # Display the frame\n",
    "    cv2.imshow(\"Video\", frame)\n",
    "    \n",
    "    if cv2.waitKey(1) & 0xFF == ord('q'):\n",
    "        break\n",
    "\n",
    "# Release video capture and writer, and close all OpenCV windows\n",
    "kamera.release()\n",
    "out.release()\n",
    "cv2.destroyAllWindows()\n",
    "\n",
    "# Create a DataFrame from the time spent list\n",
    "df = pd.DataFrame(time_spent_list)\n",
    "\n",
    "# Display the DataFrame\n",
    "print(df)\n",
    "\n",
    "# Save the DataFrame to a CSV file\n",
    "df.to_csv('time_spent_in_region.csv', index=False)"
   ]
  },
  {
   "cell_type": "code",
   "execution_count": 47,
   "id": "1bcd8cd9",
   "metadata": {},
   "outputs": [
    {
     "data": {
      "text/html": [
       "<div>\n",
       "<style scoped>\n",
       "    .dataframe tbody tr th:only-of-type {\n",
       "        vertical-align: middle;\n",
       "    }\n",
       "\n",
       "    .dataframe tbody tr th {\n",
       "        vertical-align: top;\n",
       "    }\n",
       "\n",
       "    .dataframe thead th {\n",
       "        text-align: right;\n",
       "    }\n",
       "</style>\n",
       "<table border=\"1\" class=\"dataframe\">\n",
       "  <thead>\n",
       "    <tr style=\"text-align: right;\">\n",
       "      <th></th>\n",
       "      <th>ID</th>\n",
       "      <th>TimeSpent(s)</th>\n",
       "    </tr>\n",
       "  </thead>\n",
       "  <tbody>\n",
       "    <tr>\n",
       "      <th>0</th>\n",
       "      <td>1</td>\n",
       "      <td>0</td>\n",
       "    </tr>\n",
       "    <tr>\n",
       "      <th>1</th>\n",
       "      <td>2</td>\n",
       "      <td>0</td>\n",
       "    </tr>\n",
       "    <tr>\n",
       "      <th>2</th>\n",
       "      <td>3</td>\n",
       "      <td>0</td>\n",
       "    </tr>\n",
       "    <tr>\n",
       "      <th>3</th>\n",
       "      <td>5</td>\n",
       "      <td>0</td>\n",
       "    </tr>\n",
       "    <tr>\n",
       "      <th>4</th>\n",
       "      <td>7</td>\n",
       "      <td>0</td>\n",
       "    </tr>\n",
       "  </tbody>\n",
       "</table>\n",
       "</div>"
      ],
      "text/plain": [
       "   ID  TimeSpent(s)\n",
       "0   1             0\n",
       "1   2             0\n",
       "2   3             0\n",
       "3   5             0\n",
       "4   7             0"
      ]
     },
     "execution_count": 47,
     "metadata": {},
     "output_type": "execute_result"
    }
   ],
   "source": [
    "df.head()"
   ]
  },
  {
   "cell_type": "code",
   "execution_count": 48,
   "id": "2af42d4e",
   "metadata": {},
   "outputs": [
    {
     "data": {
      "text/html": [
       "<div>\n",
       "<style scoped>\n",
       "    .dataframe tbody tr th:only-of-type {\n",
       "        vertical-align: middle;\n",
       "    }\n",
       "\n",
       "    .dataframe tbody tr th {\n",
       "        vertical-align: top;\n",
       "    }\n",
       "\n",
       "    .dataframe thead th {\n",
       "        text-align: right;\n",
       "    }\n",
       "</style>\n",
       "<table border=\"1\" class=\"dataframe\">\n",
       "  <thead>\n",
       "    <tr style=\"text-align: right;\">\n",
       "      <th></th>\n",
       "      <th>ID</th>\n",
       "      <th>TimeSpent(s)</th>\n",
       "    </tr>\n",
       "  </thead>\n",
       "  <tbody>\n",
       "    <tr>\n",
       "      <th>2892</th>\n",
       "      <td>1</td>\n",
       "      <td>11</td>\n",
       "    </tr>\n",
       "    <tr>\n",
       "      <th>2893</th>\n",
       "      <td>1</td>\n",
       "      <td>11</td>\n",
       "    </tr>\n",
       "    <tr>\n",
       "      <th>2894</th>\n",
       "      <td>1</td>\n",
       "      <td>11</td>\n",
       "    </tr>\n",
       "    <tr>\n",
       "      <th>2895</th>\n",
       "      <td>2</td>\n",
       "      <td>11</td>\n",
       "    </tr>\n",
       "    <tr>\n",
       "      <th>2896</th>\n",
       "      <td>14</td>\n",
       "      <td>3</td>\n",
       "    </tr>\n",
       "  </tbody>\n",
       "</table>\n",
       "</div>"
      ],
      "text/plain": [
       "      ID  TimeSpent(s)\n",
       "2892   1            11\n",
       "2893   1            11\n",
       "2894   1            11\n",
       "2895   2            11\n",
       "2896  14             3"
      ]
     },
     "execution_count": 48,
     "metadata": {},
     "output_type": "execute_result"
    }
   ],
   "source": [
    "df.tail()"
   ]
  },
  {
   "cell_type": "code",
   "execution_count": 49,
   "id": "a373a667",
   "metadata": {},
   "outputs": [
    {
     "name": "stdout",
     "output_type": "stream",
     "text": [
      "<class 'pandas.core.frame.DataFrame'>\n",
      "RangeIndex: 2897 entries, 0 to 2896\n",
      "Data columns (total 2 columns):\n",
      " #   Column        Non-Null Count  Dtype\n",
      "---  ------        --------------  -----\n",
      " 0   ID            2897 non-null   int64\n",
      " 1   TimeSpent(s)  2897 non-null   int64\n",
      "dtypes: int64(2)\n",
      "memory usage: 45.4 KB\n"
     ]
    }
   ],
   "source": [
    "df.info()"
   ]
  },
  {
   "cell_type": "code",
   "execution_count": 58,
   "id": "ab9ae7b4",
   "metadata": {},
   "outputs": [
    {
     "data": {
      "text/plain": [
       "3.3938888888888887"
      ]
     },
     "execution_count": 58,
     "metadata": {},
     "output_type": "execute_result"
    }
   ],
   "source": [
    "df[\"TimeSpent(s)\"].sum()/(60*60)"
   ]
  },
  {
   "cell_type": "code",
   "execution_count": 59,
   "id": "f5f208ba",
   "metadata": {},
   "outputs": [
    {
     "data": {
      "text/plain": [
       "array([ 1,  2,  3,  5,  7,  9, 12,  8, 14, 16], dtype=int64)"
      ]
     },
     "execution_count": 59,
     "metadata": {},
     "output_type": "execute_result"
    }
   ],
   "source": [
    "df.ID.unique()"
   ]
  },
  {
   "cell_type": "code",
   "execution_count": 65,
   "id": "a3d5a6e4",
   "metadata": {},
   "outputs": [],
   "source": [
    "df.ID=df.ID.astype(\"object\")"
   ]
  },
  {
   "cell_type": "code",
   "execution_count": 66,
   "id": "4e163af9",
   "metadata": {},
   "outputs": [
    {
     "name": "stdout",
     "output_type": "stream",
     "text": [
      "<class 'pandas.core.frame.DataFrame'>\n",
      "RangeIndex: 2897 entries, 0 to 2896\n",
      "Data columns (total 2 columns):\n",
      " #   Column        Non-Null Count  Dtype \n",
      "---  ------        --------------  ----- \n",
      " 0   ID            2897 non-null   object\n",
      " 1   TimeSpent(s)  2897 non-null   int64 \n",
      "dtypes: int64(1), object(1)\n",
      "memory usage: 45.4+ KB\n"
     ]
    }
   ],
   "source": [
    "df.info()"
   ]
  },
  {
   "cell_type": "code",
   "execution_count": 68,
   "id": "4c4be69f",
   "metadata": {},
   "outputs": [
    {
     "data": {
      "image/png": "[encoded data removed]",
      "text/plain": [
       "<Figure size 1200x600 with 1 Axes>"
      ]
     },
     "metadata": {},
     "output_type": "display_data"
    }
   ],
   "source": [
    "import seaborn as sns\n",
    "import matplotlib.pyplot as plt\n",
    "import pandas as pd\n",
    "\n",
    "# Seaborn ile bir bar grafiği oluşturma\n",
    "plt.figure(figsize=(12, 6))\n",
    "sns.barplot(x='ID', y='TimeSpent(s)', data=df)  # Verilerin ilk 50 satırını göster\n",
    "plt.title('Time Spent by ID')\n",
    "plt.xlabel('ID')\n",
    "plt.ylabel('Time Spent (seconds)')\n",
    "plt.xticks(rotation=90)  # X ekseni etiketlerini döndürme\n",
    "plt.show()"
   ]
  },
  {
   "cell_type": "code",
   "execution_count": 69,
   "id": "0be2eddb",
   "metadata": {},
   "outputs": [
    {
     "data": {
      "image/png": "[encoded data removed]",
      "text/plain": [
       "<Figure size 1200x600 with 1 Axes>"
      ]
     },
     "metadata": {},
     "output_type": "display_data"
    }
   ],
   "source": [
    "# Seaborn ile bir line grafiği oluşturma\n",
    "plt.figure(figsize=(12, 6))\n",
    "sns.lineplot(x='ID', y='TimeSpent(s)', data=df)  \n",
    "plt.title('Time Spent by ID (Line Plot)')\n",
    "plt.xlabel('ID')\n",
    "plt.ylabel('Time Spent (seconds)')\n",
    "plt.xticks(rotation=90)  # X ekseni etiketlerini döndürme\n",
    "plt.grid(True)\n",
    "plt.show()"
   ]
  },
  {
   "cell_type": "markdown",
   "id": "a8d7adfc",
   "metadata": {},
   "source": [
    "**Grafiklere dayanarak birkaç gözlem yapılabilir:**\n",
    "\n",
    "**1-Bar Grafiği (Yukarıdaki Grafik):**\n",
    "**Veri Dağılımı:** Bu grafikte, farklı ID'lerin belirli bir alanda ne kadar zaman geçirdiği gösterilmektedir. Yükseklikler, her bir kişinin o alanda kalma süresini (saniye cinsinden) temsil ediyor.\n",
    "Belirgin Zaman Farklılıkları: İlk birkaç kişi (1, 2, 3, 5, 7 numaralı ID'ler) daha uzun süreler harcarken, diğer ID'ler (12, 14 gibi) daha az zaman geçirmiş.\n",
    "**Veri Sayısı:** Grafik, belirli ID'ler için veriyi göstermekte ve bunlar arasında belirgin bir fark olduğu gözlenmekte. Örneğin, 1, 2 ve 3 numaralı ID'ler yaklaşık olarak 5 saniye harcarken, diğerleri daha az zaman harcamış.\n",
    "**2-Line Grafiği :**\n",
    "**Trend ve Dalgalanmalar:** Çizgi grafiği, her ID'nin zaman harcama eğilimini göstermektedir. İlk birkaç ID'nin zaman harcama miktarlarında bir azalma görülmekte, daha sonra düşük bir noktaya ulaşıldığında tekrar hafif bir artış gözleniyor.\n",
    "**Görsel Akıcılık:** Line grafiği, zaman harcama verilerindeki dalgalanmaları daha akıcı ve net bir şekilde gösteriyor. Özellikle 5. ve 7. ID'ler arasında zaman harcamada belirgin bir azalma var.\n",
    "**Belirsizlik Bantları:** Grafikteki gölgeli alanlar, verilerdeki belirsizlik veya dağılımı göstermektedir. Bu da verinin ne kadar güvenilir olduğunu veya ne kadar değişkenlik gösterdiğini anlamaya yardımcı olabilir.\n",
    "**Genel Değerlendirme:**\n",
    "Her iki grafik de belirli kişilerin bir alanda harcadığı süreler arasında önemli farklılıklar olduğunu göstermektedir.\n",
    "Bar grafiği, bireysel karşılaştırmalar için iyi bir genel bakış sağlarken, çizgi grafiği zaman içinde sürelerin nasıl değiştiğini daha iyi vurguluyor.\n",
    "Belirsizlik bantları, çizgi grafiğindeki veri dalgalanmalarını daha iyi anlamaya yardımcı olabilir.\n",
    "Bu grafikler, farklı ID'lerin belirli bir alanda geçirdiği süredeki farklılıkları ve bu sürelerin eğilimlerini analiz etmek için kullanılabilir. "
   ]
  },
  {
   "cell_type": "markdown",
   "id": "135808f1",
   "metadata": {},
   "source": [
    "### Eğer bu bekleme süresi bir mağazanın reyonu önünde gerçekleşiyorsa, bu verilere dayalı olarak firma yetkililerine çeşitli önerilerde bulunulabilir:\n",
    "\n",
    "1. **Reyon Düzeni ve Yerleşim Analizi:**\n",
    "\n",
    "**Yüksek Bekleme Süresi Olan Bölgeler:**\n",
    "Eğer belirli bir reyonun önünde yüksek bekleme süreleri tespit ediliyorsa, bu reyonun müşteriler tarafından ilgi çektiği anlamına gelebilir. Bu tür reyonlarda ürün sergileme teknikleri geliştirilebilir veya müşteri ilgisini daha da artırmak için promosyonlar yapılabilir.\n",
    "\n",
    "**Düşük Bekleme Süresi Olan Bölgeler:**\n",
    " Aksine, bazı reyonlar önünde düşük bekleme süreleri gözlemleniyorsa, bu reyonların düzeni, ürün seçimi veya yerleşiminde bir problem olabilir. Bu reyonları daha çekici hale getirmek için yeniden düzenlemeler yapılabilir veya ürünlerin yerleri değiştirilebilir.\n",
    "\n",
    "2. Ürün ve Stok Yönetimi:\n",
    "\n",
    "**Popüler Ürünler:**\n",
    " Yüksek bekleme süreleri olan reyonlar, popüler ürünlerin bulunduğu alanlar olabilir. Bu durumda, bu ürünlerin stoklarının yeterli olup olmadığı kontrol edilmelidir. Popüler ürünler için stok artırımı veya çeşitlendirme yapılabilir.\n",
    "\n",
    "**Daha Az İlgi Gören Ürünler:**\n",
    " Düşük bekleme süreleri olan reyonlarda bulunan ürünlerin satış performansı düşük olabilir. Bu ürünler için indirimler veya promosyonlar düzenlenebilir, ürünlerin müşteri ilgisini çekip çekmediği analiz edilebilir. Ya da yüksek bekleme olan reyonlardaki ürünlerle yer değişikliği yapılabilir.\n",
    "\n",
    "3. Mağaza İçi Deneyim İyileştirmeleri:\n",
    "\n",
    "**Müşteri Akışını Yönlendirme:** Müşterilerin belirli reyonlarda uzun süre beklemesi, mağaza içinde trafik sıkışıklığına yol açabilir. Müşteri akışını daha etkin bir şekilde yönetmek için reyonların yerleşimi veya mağaza içi yönlendirme levhaları iyileştirilebilir.\n",
    "\n",
    "**Bekleme Alanları:** Eğer müşteriler belirli reyonlar önünde çok uzun süre bekliyorlarsa, bu alanlara yakın rahat oturma alanları, bilgi ekranları veya ürün tanıtım videoları gibi müşteri deneyimini iyileştirecek unsurlar eklenebilir.\n",
    "\n",
    "4. Personel ve Müşteri Hizmetleri:\n",
    "\n",
    "**Personel Dağılımı:**\n",
    " Yüksek bekleme sürelerinin olduğu reyonlar, ekstra personel desteği gerektirebilir. Bu reyonlarda müşterilere daha hızlı ve etkili hizmet vermek için ek personel görevlendirilebilir.\n",
    "\n",
    "**Müşteri Geri Bildirimi:**\n",
    " Belirli reyonlarda uzun süre bekleyen müşterilere neden bu kadar bekledikleri sorulabilir ve bu bilgiler, müşteri deneyimini iyileştirmek için kullanılabilir.\n",
    "\n",
    "5. Reklam ve Pazarlama Stratejileri:\n",
    "**Veri Destekli Kampanyalar:**\n",
    " Bekleme sürelerine göre en popüler reyonların analiz edilmesi, firma için veri odaklı pazarlama stratejileri geliştirmeye yardımcı olabilir. Örneğin, bu reyonlardaki ürünler için hedeflenmiş reklam kampanyaları düzenlenebilir.\n",
    "**Müşteri Segmentasyonu:**\n",
    " Bekleme sürelerine göre müşterilerin hangi segmentlerinin hangi reyonlarda daha fazla zaman geçirdiği analiz edilerek, bu segmentlere yönelik özel kampanyalar oluşturulabilir.\n",
    "6. Teknolojik Yatırımlar:\n",
    "**Akıllı Mağaza Sistemleri:**\n",
    " Mağaza içi müşteri hareketlerini izleyen sensörler ve kameralar gibi teknolojiler kullanılarak, müşteri davranışları daha iyi analiz edilebilir ve bekleme süreleri daha doğru bir şekilde ölçülebilir.\n",
    " \n",
    "**Self-Checkout ve Mobil Ödeme İmkanları:**\n",
    " Uzun bekleme sürelerini azaltmak için müşterilerin hızlı bir şekilde ödemelerini yapabilecekleri self-checkout ve mobil ödeme sistemleri teşvik edilebilir.\n",
    "\n",
    "Bu öneriler, bekleme süreleri analizinden elde edilen verilere dayalı olarak müşteri memnuniyetini artırmak, satışları optimize etmek ve genel mağaza performansını iyileştirmek için kullanılabilir."
   ]
  },
  {
   "cell_type": "markdown",
   "id": "357e78ec",
   "metadata": {},
   "source": []
  },
  {
   "cell_type": "markdown",
   "id": "325776f7",
   "metadata": {},
   "source": [
    "## Akıllı Mağaza Sistemleri\n",
    "Müşteri davranışlarını izleyerek ve analiz ederek mağaza içi operasyonları optimize etmenizi sağlayan teknolojilerdir. Bu tür sistemler, müşteri deneyimini iyileştirmek, personel verimliliğini artırmak ve satışları optimize etmek için birçok avantaj sunar. Akıllı mağaza sistemleri için önerilerim şunlar:\n",
    "\n",
    "1. Müşteri Takip ve Analiz Sistemleri:\n",
    "\n",
    "**Kamera Tabanlı İzleme:** Yüksek çözünürlüklü kameralar ve yapay zeka algoritmaları kullanarak mağaza içinde müşterilerin hareketlerini takip edebilirsiniz. Bu sistemler, hangi reyonların daha fazla ilgi gördüğünü, nerelerde yığılma yaşandığını ve müşterilerin mağaza içinde izledikleri yolları analiz etmenize olanak tanır.\n",
    "\n",
    "**Isı Haritaları (Heatmaps):** Kamera verileriyle oluşturulan ısı haritaları, mağazada en çok ziyaret edilen bölgeleri ve ilgi gören reyonları belirlemenizi sağlar. Bu veriler, ürün yerleşimini optimize etmek ve müşteri akışını iyileştirmek için kullanılabilir.\n",
    "\n",
    "**RFID Takip Sistemleri:** Ürünlere yerleştirilen RFID etiketleri ile ürünlerin hareketleri izlenebilir ve müşterilerin hangi ürünlere ilgi gösterdiği, hangi ürünlerin daha fazla incelendiği veya satın alındığı analiz edilebilir.\n",
    "\n",
    "2. Kişiselleştirilmiş Müşteri Deneyimi:\n",
    "\n",
    "**Dijital Kiosklar:** Müşterilere mağaza içi yönlendirme, ürün bilgileri, kampanyalar ve özel teklifler sunan dijital kiosklar yerleştirilebilir. Bu kiosklar, müşterilerin ilgi alanlarına göre kişiselleştirilmiş öneriler sunabilir.\n",
    "\n",
    "**Mobil Uygulamalar ve Beacons:** Mobil uygulamalar aracılığıyla müşterilere, mağazada gezindikleri sırada özel indirimler veya ürün önerileri sunabilirsiniz. Beacon teknolojisi kullanarak, müşterilerin konumuna göre kişiselleştirilmiş bildirimler gönderebilirsiniz.\n",
    "\n",
    "3. Self-Checkout Sistemleri:\n",
    "\n",
    "**Akıllı Sepetler:** Müşterilerin alışveriş yaparken sepetlerine ekledikleri ürünleri otomatik olarak tanıyan ve toplam fiyatı gösteren akıllı alışveriş sepetleri. Bu, ödeme sürecini hızlandırarak müşterilerin bekleme sürelerini azaltabilir.\n",
    "\n",
    "**Self-Checkout Kioskları:** Müşterilerin kendi ödemelerini yapmalarına olanak tanıyan self-checkout kioskları, kasada oluşan kuyrukları ve bekleme sürelerini azaltmak için etkili bir çözüm olabilir.\n",
    "4. Envanter Yönetimi ve Stok Takibi:\n",
    "\n",
    "**Akıllı Raflar:** Ürün stoklarını otomatik olarak izleyen ve azalan stokları anında bildiren akıllı raflar. Bu sistem, ürünlerin reyonlarda sürekli olarak mevcut olmasını sağlayarak müşteri memnuniyetini artırır.\n",
    "\n",
    "**Otomatik Stok Yenileme Sistemleri:** Mağaza içinde bulunan RFID okuyucular ve sensörler aracılığıyla envanter hareketlerini takip edebilir ve stoklar azaldığında otomatik olarak tedarik siparişleri verebilirsiniz.\n",
    "\n",
    "5. Müşteri ve Personel Etkileşimi:\n",
    "\n",
    "**Sanal Asistanlar:** Mağaza içinde, müşterilere ürün bulmalarına, özellikleri hakkında bilgi edinmelerine veya mağaza içi kampanyalardan haberdar olmalarına yardımcı olacak yapay zeka destekli sanal asistanlar yerleştirilebilir.\n",
    "\n",
    "**Çalışan Yönlendirme Sistemleri:** Akıllı mağaza sistemleri, müşteri yoğunluğu olan reyonları tespit ederek personelin bu alanlara yönlendirilmesini sağlayabilir. Bu, müşteri hizmetinin hızını ve kalitesini artırır.\n",
    "\n",
    "6. Veri Analitiği ve Raporlama:\n",
    "\n",
    "**Gerçek Zamanlı Veri Analizi:** Mağaza içinde toplanan verileri gerçek zamanlı olarak analiz edebilen ve yöneticilere bu veriler doğrultusunda anında karar alma imkanı sunan veri analitiği sistemleri.\n",
    "\n",
    "**Tahmin Analitiği:** Müşteri davranışlarını ve satış trendlerini tahmin eden yapay zeka destekli analitik araçlar. Bu sistemler, gelecekteki talepleri öngörerek envanter yönetimi ve satış stratejilerini optimize etmek için kullanılabilir.\n",
    "\n",
    "7. Entegre Mağaza Yönetimi Platformları:\n",
    "\n",
    "**Tüm Sistemlerin Entegrasyonu:** Tüm akıllı mağaza teknolojilerini tek bir platformda entegre ederek, mağaza yöneticilerinin her şeyi merkezi bir yerden yönetmesine olanak tanıyacak entegre yönetim platformları kurulabilir. Bu, verimliliği artırır ve mağaza içi operasyonların daha sorunsuz bir şekilde yürütülmesini sağlar.\n",
    "\n",
    "Bu akıllı mağaza teknolojileri, müşteri memnuniyetini artırarak ve operasyonel verimliliği iyileştirerek firmanın rekabet gücünü artırabilir. Ayrıca, veri tabanlı karar alma süreçlerini geliştirerek, mağaza içi satışları ve müşteri sadakatini artırmak için değerli içgörüler sunar."
   ]
  },
  {
   "cell_type": "markdown",
   "id": "a108e2ba",
   "metadata": {},
   "source": []
  }
 ],
 "metadata": {
  "hide_input": false,
  "kernelspec": {
   "display_name": "Python 3 (ipykernel)",
   "language": "python",
   "name": "python3"
  },
  "language_info": {
   "codemirror_mode": {
    "name": "ipython",
    "version": 3
   },
   "file_extension": ".py",
   "mimetype": "text/x-python",
   "name": "python",
   "nbconvert_exporter": "python",
   "pygments_lexer": "ipython3",
   "version": "3.11.5"
  },
  "toc": {
   "base_numbering": 1,
   "nav_menu": {},
   "number_sections": true,
   "sideBar": true,
   "skip_h1_title": false,
   "title_cell": "Table of Contents",
   "title_sidebar": "Contents",
   "toc_cell": false,
   "toc_position": {},
   "toc_section_display": true,
   "toc_window_display": false
  }
 },
 "nbformat": 4,
 "nbformat_minor": 5
}
